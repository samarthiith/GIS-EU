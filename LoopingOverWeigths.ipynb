{
 "cells": [
  {
   "cell_type": "code",
   "execution_count": 43,
   "metadata": {},
   "outputs": [],
   "source": [
    "import gdal, osr\n",
    "import numpy as np\n",
    "from skimage.graph import route_through_array\n",
    "import pandas as pd\n",
    "import matplotlib.pyplot as plt\n",
    "from scipy import stats\n",
    "import os\n",
    "import math\n",
    "from osgeo import ogr\n",
    "import fiona\n",
    "import jenkspy"
   ]
  },
  {
   "cell_type": "code",
   "execution_count": 5,
   "metadata": {},
   "outputs": [],
   "source": [
    "def raster2array(rasterfn):\n",
    "    #print('converting raster to array...')\n",
    "    raster = gdal.Open(rasterfn)\n",
    "    band = raster.GetRasterBand(1)\n",
    "    array = band.ReadAsArray()\n",
    "    return array\n",
    "\n",
    "def array2raster(array, rasProp,newRasterfn):\n",
    "    print('converting array to raster...')\n",
    "    cols = array.shape[1]\n",
    "    rows = array.shape[0]\n",
    "    driver = gdal.GetDriverByName('GTiff')\n",
    "    outRaster = driver.Create( newRasterfn, \n",
    "                              cols, rows,\n",
    "                              bands=1, \n",
    "                              eType= gdal.GDT_Float32)\n",
    "    outRaster.SetGeoTransform((rasProp.originX, \n",
    "                               rasProp.pixelWidth, \n",
    "                               0, rasProp.originY, \n",
    "                               0, rasProp.pixelHeight))\n",
    "    \n",
    "    outband = outRaster.GetRasterBand(1)\n",
    "    outband.WriteArray(array)\n",
    "    outRasterSRS = osr.SpatialReference()\n",
    "    outRasterSRS.ImportFromWkt(rasProp.projRef)\n",
    "    outRaster.SetProjection(outRasterSRS.ExportToWkt())\n",
    "    outband.FlushCache()\n",
    "    \n",
    "class RasterProp:\n",
    "    def __init__(self,\n",
    "                 rasterFile,\n",
    "                 sliceClass=None, slicing = False):\n",
    "        self.raster = gdal.Open(rasterFile)\n",
    "        self.geotransform = self.raster.GetGeoTransform()\n",
    "        self.projRef      = self.raster.GetProjectionRef()\n",
    "        self.originX = self.geotransform[0]\n",
    "        self.originY = self.geotransform[3] \n",
    "        self.pixelWidth = self.geotransform[1] \n",
    "        self.pixelHeight = self.geotransform[5]\n",
    "        \n",
    "        if slicing:\n",
    "            print('recomputing origin')\n",
    "            x_ori_rel , y_ori_rel, xlen, ylen = sliceClass.relevantArea()\n",
    "            self.originX, self.originY = pixel2coord(self.geotransform, \n",
    "                                                     x_ori_rel, \n",
    "                                                     y_ori_rel)\n",
    "        \n",
    "def coord2pixelOffset(rasProp,x,y):\n",
    "    print('coordinate to pixel offsetting...')\n",
    "    originX = rasProp.originX\n",
    "    originY = rasProp.originY\n",
    "    \n",
    "    pixelWidth = rasProp.pixelWidth \n",
    "    pixelHeight = rasProp.pixelHeight\n",
    "\n",
    "    xOffset = int((x - originX)/pixelWidth)\n",
    "    yOffset = int((y - originY)/pixelHeight)\n",
    "    return xOffset,yOffset\n",
    "\n",
    "\n",
    "def pixel2coord(geoTrans, x, y):\n",
    "    xoff, a, b, yoff, d, e = geoTrans\n",
    "\n",
    "    xp = a * x + b * y + a * 0.5 + b * 0.5 + xoff\n",
    "    yp = d * x + e * y + d * 0.5 + e * 0.5 + yoff\n",
    "    return(int(xp), int(yp))"
   ]
  },
  {
   "cell_type": "code",
   "execution_count": 4,
   "metadata": {},
   "outputs": [],
   "source": [
    "def createTotalCostRaster(factorPathList, \n",
    "                          weightList, \n",
    "                          rasProp,\n",
    "                          rasterName, \n",
    "                          slicing=False, \n",
    "                          strPoint=None, \n",
    "                          endPoint=None):\n",
    "    \n",
    "    if not slicing:\n",
    "        #print(factorNames[0])\n",
    "        costArray = maxMinScale(raster2array(factorPathList[0]))*weightList[0]\n",
    "        costArray[np.isnan(costArray)]=0\n",
    "        \n",
    "        for fpos in range(1,len(factorPathList)):\n",
    "            #print(factorNames[fpos])\n",
    "            factorArray = maxMinScale(raster2array(factorPathList[fpos]))*weightList[fpos]\n",
    "            factorArray[np.isnan(factorArray)]=0\n",
    "            #plt.imshow(factorArray)\n",
    "            costArray = np.add(costArray, factorArray)\n",
    "        costArray[np.isnan(costArray)]=0\n",
    "        plt.imshow(costArray)\n",
    "        plt.colorbar()\n",
    "        array2raster(costArray, rasProp, rasterName)\n",
    "        return costArray, rasProp\n",
    "    \n",
    "    \n",
    "    else:\n",
    "        sliceObj = Slicing(rasProp, strPoint, endPoint)\n",
    "        raster = gdal.Open(factorPathList[0])\n",
    "        band   = raster.GetRasterBand(1)\n",
    "        \n",
    "        x_ori_rel , y_ori_rel, xlen, ylen = sliceObj.relevantArea()\n",
    "        \n",
    "        sliceRasProp = RasterProp(factorPathList[0],\n",
    "                                  slicing   = True, \n",
    "                                  sliceClass= sliceObj)\n",
    "        \n",
    "        array = band.ReadAsArray(xoff=x_ori_rel, \n",
    "                          yoff=y_ori_rel,\n",
    "                          win_xsize=xlen,\n",
    "                          win_ysize=ylen\n",
    "                         )\n",
    "        \n",
    "        costArray = maxMinScale(array)*weightList[0]\n",
    "        \n",
    "        for fpos in range(1, len(factorPathList)):\n",
    "            raster = gdal.Open(factorPathList[fpos])\n",
    "            band   = raster.GetRasterBand(1)\n",
    "            factorArray = maxMinScale(band.ReadAsArray(xoff=x_ori_rel, \n",
    "                          yoff=y_ori_rel,\n",
    "                          win_xsize=xlen,\n",
    "                          win_ysize=ylen\n",
    "                         ))*weightList[fpos]\n",
    "            \n",
    "            costArray = np.add(costArray, factorArray)\n",
    "        \n",
    "        np.place(costArray, costArray==nan,0)\n",
    "        array2raster(costArray, sliceRasProp, rasterName)\n",
    "        plt.imshow(costArray)\n",
    "        return costArray, sliceRasProp\n",
    "    \n",
    "    \n",
    "def maxMinScale(array):\n",
    "    return (array/abs(array.max()-array.min()))"
   ]
  },
  {
   "cell_type": "code",
   "execution_count": 29,
   "metadata": {},
   "outputs": [],
   "source": [
    "def createPath(rasProp, costSurfaceArray,\n",
    "               startCoord,stopCoord):\n",
    "    '''returns an array of the same shape as costSurfaceArray with\n",
    "    1 for path and 0 for other cells'''\n",
    "    print('creating path...')\n",
    "    # coordinates to array index\n",
    "    startCoordX = startCoord[0]\n",
    "    startCoordY = startCoord[1]\n",
    "    startIndexX,startIndexY = coord2pixelOffset(rasProp,\n",
    "                                                startCoordX,\n",
    "                                                startCoordY)\n",
    "\n",
    "    stopCoordX = stopCoord[0]\n",
    "    stopCoordY = stopCoord[1]\n",
    "    stopIndexX,stopIndexY = coord2pixelOffset(rasProp,\n",
    "                                              stopCoordX,stopCoordY)\n",
    "    # create path\n",
    "    indices, weight = route_through_array(costSurfaceArray, \n",
    "                                          (startIndexY,startIndexX), \n",
    "                                          (stopIndexY,stopIndexX),\n",
    "                                          geometric=True,\n",
    "                                          fully_connected=True)\n",
    "    \n",
    "    \n",
    "    indices = np.array(indices).T\n",
    "    path = np.zeros_like(costSurfaceArray)\n",
    "    path[indices[0], indices[1]] = 1\n",
    "    print('path created...')\n",
    "    return path"
   ]
  },
  {
   "cell_type": "code",
   "execution_count": 30,
   "metadata": {},
   "outputs": [],
   "source": [
    "def getStartEndCord(file):\n",
    "    '''For reading 'start' and 'end' coordindates from shape files - \n",
    "    used specifically for DC connection files'''\n",
    "    \n",
    "    shape = fiona.open(file)\n",
    "    first = shape.next()\n",
    "    strX, strY =first.get('properties').get('CoordX'), first.get('properties').get('CoordY')\n",
    "    second = shape.next()\n",
    "    endX, endY =second.get('properties').get('CoordX'), second.get('properties').get('CoordY')\n",
    "    #return first\n",
    "    return ((strX,strY) ,(endX,endY))\n",
    "\n",
    "\n",
    "def writePath(costArray, dc, pathName):\n",
    "    '''Calculating and writing path for DC Connections'''\n",
    "    path = createPath(RasterProp(ecoFacRaster), costArray, \n",
    "                       getStartEndCord(dc)[0],  getStartEndCord(dc)[1])\n",
    "    array2raster(path, RasterProp(ecoFacRaster), pathName)\n",
    "    "
   ]
  },
  {
   "cell_type": "markdown",
   "metadata": {},
   "source": [
    "## Evaluation Metrics"
   ]
  },
  {
   "cell_type": "markdown",
   "metadata": {},
   "source": [
    "Upon calculation of path the following information is saved:\n",
    "\n",
    "1. Length of path\n",
    "2. People Affected\n",
    "3. 'Similarness' to reference path (all equally weighted)\n",
    "4. Land Quality\n",
    "    4.1 Aggriculture\n",
    "    4.2 Forest\n",
    "    4.3 HVN\n",
    "    4.4 Man-Made\n",
    "    4.5 WasteLand\n",
    "6. 'Cost' based on raster\n",
    "    6.1 Eco\n",
    "    6.2 Env\n",
    "    6.3 Pub\n",
    "    6.4 Inf\n",
    "    6.5 All\n"
   ]
  },
  {
   "cell_type": "code",
   "execution_count": 26,
   "metadata": {},
   "outputs": [],
   "source": [
    "ecoPath = os.path.abspath('01_Data500/fac_eco_onlySlope.tif')\n",
    "envPath = os.path.abspath('01_Data500/fac_env.tif')\n",
    "pubPath = os.path.abspath('01_Data500/fac_pub.tif')\n",
    "infPath = os.path.abspath('01_Data500/fac_inf.tif')\n",
    "citPath = os.path.abspath('01_Data500/city.tif')"
   ]
  },
  {
   "cell_type": "code",
   "execution_count": 36,
   "metadata": {},
   "outputs": [],
   "source": [
    "ecoFac = raster2array(ecoPath)\n",
    "envFac = raster2array(envPath)\n",
    "pubFac = raster2array(pubPath)\n",
    "infFac = raster2array(infPath)\n",
    "citAre = raster2array(citPath)"
   ]
  },
  {
   "cell_type": "code",
   "execution_count": 37,
   "metadata": {},
   "outputs": [],
   "source": [
    "def getStartEndCord(file):\n",
    "    '''For reading 'start' and 'end' coordindates from shape files - \n",
    "    used specifically for DC connection files'''\n",
    "    \n",
    "    shape = fiona.open(file)\n",
    "    first = shape.next()\n",
    "    strX, strY =first.get('properties').get('CoordX'), first.get('properties').get('CoordY')\n",
    "    second = shape.next()\n",
    "    endX, endY =second.get('properties').get('CoordX'), second.get('properties').get('CoordY')\n",
    "    #return first\n",
    "    return ((strX,strY) ,(endX,endY))"
   ]
  },
  {
   "cell_type": "code",
   "execution_count": 38,
   "metadata": {},
   "outputs": [],
   "source": [
    "def createPath(rasProp, costSurfaceArray,\n",
    "               startCoord,stopCoord):\n",
    "    '''returns an array of the same shape as costSurfaceArray with\n",
    "    1 for path and 0 for other cells'''\n",
    "    print('creating path...')\n",
    "    # coordinates to array index\n",
    "    startCoordX = startCoord[0]\n",
    "    startCoordY = startCoord[1]\n",
    "    startIndexX,startIndexY = coord2pixelOffset(rasProp,\n",
    "                                                startCoordX,\n",
    "                                                startCoordY)\n",
    "\n",
    "    stopCoordX = stopCoord[0]\n",
    "    stopCoordY = stopCoord[1]\n",
    "    stopIndexX,stopIndexY = coord2pixelOffset(rasProp,\n",
    "                                              stopCoordX,stopCoordY)\n",
    "    # create path\n",
    "    indices, weight = route_through_array(costSurfaceArray, \n",
    "                                          (startIndexY,startIndexX), \n",
    "                                          (stopIndexY,stopIndexX),\n",
    "                                          geometric=True,\n",
    "                                          fully_connected=True)\n",
    "    \n",
    "    \n",
    "    indices = np.array(indices).T\n",
    "    path = np.zeros_like(costSurfaceArray)\n",
    "    path[indices[0], indices[1]] = 1\n",
    "    print('path created...')\n",
    "    return path"
   ]
  },
  {
   "cell_type": "code",
   "execution_count": 40,
   "metadata": {},
   "outputs": [],
   "source": [
    "dcProjects = os.path.abspath('02_DC_Projects_DE//')\n",
    "dc5Path = str(dcProjects+'\\\\DC_5.shp')"
   ]
  },
  {
   "cell_type": "code",
   "execution_count": 86,
   "metadata": {},
   "outputs": [
    {
     "name": "stderr",
     "output_type": "stream",
     "text": [
      "C:\\Users\\Kumar\\Anaconda3\\envs\\gis\\lib\\site-packages\\ipykernel_launcher.py:6: DeprecationWarning: Collection.__next__() is buggy and will be removed in Fiona 2.0. Switch to `next(iter(collection))`.\n",
      "  \n",
      "C:\\Users\\Kumar\\Anaconda3\\envs\\gis\\lib\\site-packages\\ipykernel_launcher.py:8: DeprecationWarning: Collection.__next__() is buggy and will be removed in Fiona 2.0. Switch to `next(iter(collection))`.\n",
      "  \n"
     ]
    },
    {
     "name": "stdout",
     "output_type": "stream",
     "text": [
      "creating path...\n",
      "coordinate to pixel offsetting...\n",
      "coordinate to pixel offsetting...\n"
     ]
    },
    {
     "ename": "KeyboardInterrupt",
     "evalue": "",
     "output_type": "error",
     "traceback": [
      "\u001b[1;31m---------------------------------------------------------------------------\u001b[0m",
      "\u001b[1;31mKeyboardInterrupt\u001b[0m                         Traceback (most recent call last)",
      "\u001b[1;32m<timed exec>\u001b[0m in \u001b[0;36m<module>\u001b[1;34m\u001b[0m\n",
      "\u001b[1;32m<ipython-input-38-ca83340d1126>\u001b[0m in \u001b[0;36mcreatePath\u001b[1;34m(rasProp, costSurfaceArray, startCoord, stopCoord)\u001b[0m\n\u001b[0;32m     20\u001b[0m                                           \u001b[1;33m(\u001b[0m\u001b[0mstopIndexY\u001b[0m\u001b[1;33m,\u001b[0m\u001b[0mstopIndexX\u001b[0m\u001b[1;33m)\u001b[0m\u001b[1;33m,\u001b[0m\u001b[1;33m\u001b[0m\u001b[0m\n\u001b[0;32m     21\u001b[0m                                           \u001b[0mgeometric\u001b[0m\u001b[1;33m=\u001b[0m\u001b[1;32mTrue\u001b[0m\u001b[1;33m,\u001b[0m\u001b[1;33m\u001b[0m\u001b[0m\n\u001b[1;32m---> 22\u001b[1;33m                                           fully_connected=True)\n\u001b[0m\u001b[0;32m     23\u001b[0m \u001b[1;33m\u001b[0m\u001b[0m\n\u001b[0;32m     24\u001b[0m \u001b[1;33m\u001b[0m\u001b[0m\n",
      "\u001b[1;32m~\\Anaconda3\\envs\\gis\\lib\\site-packages\\skimage\\graph\\mcp.py\u001b[0m in \u001b[0;36mroute_through_array\u001b[1;34m(array, start, end, fully_connected, geometric)\u001b[0m\n\u001b[0;32m     85\u001b[0m     \u001b[1;32melse\u001b[0m\u001b[1;33m:\u001b[0m\u001b[1;33m\u001b[0m\u001b[0m\n\u001b[0;32m     86\u001b[0m         \u001b[0mmcp_class\u001b[0m \u001b[1;33m=\u001b[0m \u001b[0mMCP\u001b[0m\u001b[1;33m\u001b[0m\u001b[0m\n\u001b[1;32m---> 87\u001b[1;33m     \u001b[0mm\u001b[0m \u001b[1;33m=\u001b[0m \u001b[0mmcp_class\u001b[0m\u001b[1;33m(\u001b[0m\u001b[0marray\u001b[0m\u001b[1;33m,\u001b[0m \u001b[0mfully_connected\u001b[0m\u001b[1;33m=\u001b[0m\u001b[0mfully_connected\u001b[0m\u001b[1;33m)\u001b[0m\u001b[1;33m\u001b[0m\u001b[0m\n\u001b[0m\u001b[0;32m     88\u001b[0m     \u001b[0mcosts\u001b[0m\u001b[1;33m,\u001b[0m \u001b[0mtraceback_array\u001b[0m \u001b[1;33m=\u001b[0m \u001b[0mm\u001b[0m\u001b[1;33m.\u001b[0m\u001b[0mfind_costs\u001b[0m\u001b[1;33m(\u001b[0m\u001b[1;33m[\u001b[0m\u001b[0mstart\u001b[0m\u001b[1;33m]\u001b[0m\u001b[1;33m,\u001b[0m \u001b[1;33m[\u001b[0m\u001b[0mend\u001b[0m\u001b[1;33m]\u001b[0m\u001b[1;33m)\u001b[0m\u001b[1;33m\u001b[0m\u001b[0m\n\u001b[0;32m     89\u001b[0m     \u001b[1;32mreturn\u001b[0m \u001b[0mm\u001b[0m\u001b[1;33m.\u001b[0m\u001b[0mtraceback\u001b[0m\u001b[1;33m(\u001b[0m\u001b[0mend\u001b[0m\u001b[1;33m)\u001b[0m\u001b[1;33m,\u001b[0m \u001b[0mcosts\u001b[0m\u001b[1;33m[\u001b[0m\u001b[0mend\u001b[0m\u001b[1;33m]\u001b[0m\u001b[1;33m\u001b[0m\u001b[0m\n",
      "\u001b[1;32mskimage\\graph\\_mcp.pyx\u001b[0m in \u001b[0;36mskimage.graph._mcp.MCP_Geometric.__init__\u001b[1;34m()\u001b[0m\n",
      "\u001b[1;32mskimage\\graph\\_mcp.pyx\u001b[0m in \u001b[0;36mskimage.graph._mcp.MCP.__init__\u001b[1;34m()\u001b[0m\n",
      "\u001b[1;32mskimage\\graph\\_mcp.pyx\u001b[0m in \u001b[0;36mskimage.graph._mcp.make_offsets\u001b[1;34m()\u001b[0m\n",
      "\u001b[1;32m~\\Anaconda3\\envs\\gis\\lib\\site-packages\\numpy\\core\\numeric.py\u001b[0m in \u001b[0;36mones\u001b[1;34m(shape, dtype, order)\u001b[0m\n\u001b[0;32m    154\u001b[0m \u001b[1;33m\u001b[0m\u001b[0m\n\u001b[0;32m    155\u001b[0m \u001b[1;33m\u001b[0m\u001b[0m\n\u001b[1;32m--> 156\u001b[1;33m \u001b[1;32mdef\u001b[0m \u001b[0mones\u001b[0m\u001b[1;33m(\u001b[0m\u001b[0mshape\u001b[0m\u001b[1;33m,\u001b[0m \u001b[0mdtype\u001b[0m\u001b[1;33m=\u001b[0m\u001b[1;32mNone\u001b[0m\u001b[1;33m,\u001b[0m \u001b[0morder\u001b[0m\u001b[1;33m=\u001b[0m\u001b[1;34m'C'\u001b[0m\u001b[1;33m)\u001b[0m\u001b[1;33m:\u001b[0m\u001b[1;33m\u001b[0m\u001b[0m\n\u001b[0m\u001b[0;32m    157\u001b[0m     \"\"\"\n\u001b[0;32m    158\u001b[0m     \u001b[0mReturn\u001b[0m \u001b[0ma\u001b[0m \u001b[0mnew\u001b[0m \u001b[0marray\u001b[0m \u001b[0mof\u001b[0m \u001b[0mgiven\u001b[0m \u001b[0mshape\u001b[0m \u001b[1;32mand\u001b[0m \u001b[0mtype\u001b[0m\u001b[1;33m,\u001b[0m \u001b[0mfilled\u001b[0m \u001b[1;32mwith\u001b[0m \u001b[0mones\u001b[0m\u001b[1;33m.\u001b[0m\u001b[1;33m\u001b[0m\u001b[0m\n",
      "\u001b[1;31mKeyboardInterrupt\u001b[0m: "
     ]
    }
   ],
   "source": [
    "%%time\n",
    "allPaths = []\n",
    "for eco in range(1,10,2):\n",
    "    for env in range(1,10,2):\n",
    "        for inf in range(1,10,2):\n",
    "            for pub in range(1,10,2):\n",
    "                c_eco = eco/(eco+env+inf+pub)\n",
    "                c_env = env/(eco+env+inf+pub)\n",
    "                c_inf = inf/(eco+env+inf+pub)\n",
    "                c_pub = pub/(eco+env+inf+pub)\n",
    "                totalCost = c_eco*ecoFac + c_env*envFac + c_pub*pubFac + c_inf*infFac + citAre\n",
    "                path = createPath(RasterProp(ecoPath), totalCost,\n",
    "                                  getStartEndCord(dc5Path)[0], getStartEndCord(dc5Path)[1])\n",
    "                \n",
    "                pathidx = np.transpose(np.nonzero(path))\n",
    "                allPaths.append([c_eco,c_env,c_inf,c_pub,pathidx])"
   ]
  },
  {
   "cell_type": "code",
   "execution_count": 69,
   "metadata": {},
   "outputs": [
    {
     "data": {
      "text/html": [
       "<div>\n",
       "<style scoped>\n",
       "    .dataframe tbody tr th:only-of-type {\n",
       "        vertical-align: middle;\n",
       "    }\n",
       "\n",
       "    .dataframe tbody tr th {\n",
       "        vertical-align: top;\n",
       "    }\n",
       "\n",
       "    .dataframe thead th {\n",
       "        text-align: right;\n",
       "    }\n",
       "</style>\n",
       "<table border=\"1\" class=\"dataframe\">\n",
       "  <thead>\n",
       "    <tr style=\"text-align: right;\">\n",
       "      <th></th>\n",
       "      <th>0</th>\n",
       "      <th>1</th>\n",
       "      <th>2</th>\n",
       "      <th>3</th>\n",
       "      <th>4</th>\n",
       "    </tr>\n",
       "  </thead>\n",
       "  <tbody>\n",
       "    <tr>\n",
       "      <th>0</th>\n",
       "      <td>0.25</td>\n",
       "      <td>0.25</td>\n",
       "      <td>0.25</td>\n",
       "      <td>0.25</td>\n",
       "      <td>[[4493, 4031], [4493, 4032], [4493, 4033], [44...</td>\n",
       "    </tr>\n",
       "    <tr>\n",
       "      <th>1</th>\n",
       "      <td>0.20</td>\n",
       "      <td>0.20</td>\n",
       "      <td>0.20</td>\n",
       "      <td>0.40</td>\n",
       "      <td>[[4493, 4031], [4493, 4032], [4493, 4033], [44...</td>\n",
       "    </tr>\n",
       "  </tbody>\n",
       "</table>\n",
       "</div>"
      ],
      "text/plain": [
       "      0     1     2     3                                                  4\n",
       "0  0.25  0.25  0.25  0.25  [[4493, 4031], [4493, 4032], [4493, 4033], [44...\n",
       "1  0.20  0.20  0.20  0.40  [[4493, 4031], [4493, 4032], [4493, 4033], [44..."
      ]
     },
     "execution_count": 69,
     "metadata": {},
     "output_type": "execute_result"
    }
   ],
   "source": []
  },
  {
   "cell_type": "code",
   "execution_count": 50,
   "metadata": {},
   "outputs": [
    {
     "data": {
      "text/plain": [
       "array([[4493, 4031],\n",
       "       [4493, 4032],\n",
       "       [4493, 4033],\n",
       "       ...,\n",
       "       [5307, 4121],\n",
       "       [5307, 4122],\n",
       "       [5307, 4127]], dtype=int64)"
      ]
     },
     "execution_count": 50,
     "metadata": {},
     "output_type": "execute_result"
    }
   ],
   "source": [
    "np.transpose(np.nonzero(path))"
   ]
  },
  {
   "cell_type": "code",
   "execution_count": 45,
   "metadata": {},
   "outputs": [
    {
     "name": "stdout",
     "output_type": "stream",
     "text": [
      "converting array to raster...\n"
     ]
    }
   ],
   "source": [
    "array2raster(path, RasterProp(ecoPath),os.path.abspath('01_Data500/out/01_1111_Test.tif'))"
   ]
  }
 ],
 "metadata": {
  "kernelspec": {
   "display_name": "Python 3",
   "language": "python",
   "name": "python3"
  },
  "language_info": {
   "codemirror_mode": {
    "name": "ipython",
    "version": 3
   },
   "file_extension": ".py",
   "mimetype": "text/x-python",
   "name": "python",
   "nbconvert_exporter": "python",
   "pygments_lexer": "ipython3",
   "version": "3.6.6"
  }
 },
 "nbformat": 4,
 "nbformat_minor": 2
}
