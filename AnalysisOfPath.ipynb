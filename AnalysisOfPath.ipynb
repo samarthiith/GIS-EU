{
 "cells": [
  {
   "cell_type": "code",
   "execution_count": 66,
   "metadata": {},
   "outputs": [],
   "source": [
    "import gdal, osr\n",
    "import os\n",
    "import matplotlib.pyplot as plt\n",
    "import numpy as np\n",
    "import pandas as pd"
   ]
  },
  {
   "cell_type": "code",
   "execution_count": 3,
   "metadata": {},
   "outputs": [],
   "source": [
    "def raster2array(rasterfn):\n",
    "    print('converting raster to array...')\n",
    "    raster = gdal.Open(rasterfn)\n",
    "    band = raster.GetRasterBand(1)\n",
    "    array = band.ReadAsArray()\n",
    "    return array"
   ]
  },
  {
   "cell_type": "code",
   "execution_count": 5,
   "metadata": {},
   "outputs": [
    {
     "name": "stdout",
     "output_type": "stream",
     "text": [
      "converting raster to array...\n",
      "converting raster to array...\n",
      "converting raster to array...\n",
      "converting raster to array...\n"
     ]
    }
   ],
   "source": [
    "ecoCost = raster2array(os.path.abspath('01_Data500/fac_eco.tif'))\n",
    "envCost = raster2array(os.path.abspath('01_Data500/fac_env.tif'))\n",
    "infCost = raster2array(os.path.abspath('01_Data500/fac_inf.tif'))\n",
    "pubCost = raster2array(os.path.abspath('01_Data500/fac_pub.tif'))\n",
    "allCost = (ecoCost+envCost+infCost+pubCost)/4"
   ]
  },
  {
   "cell_type": "markdown",
   "metadata": {},
   "source": [
    "## Select DC and path_based_on"
   ]
  },
  {
   "cell_type": "code",
   "execution_count": 10,
   "metadata": {},
   "outputs": [],
   "source": [
    "dc ='dc5'\n",
    "path_based_on = 'all'\n",
    "pathFile = os.path.abspath('01_Data500/out')+'\\\\'+path_based_on+'_'+dc+'.tif'"
   ]
  },
  {
   "cell_type": "code",
   "execution_count": 62,
   "metadata": {},
   "outputs": [],
   "source": [
    "factors = ['eco','env','inf','pub', 'all']"
   ]
  },
  {
   "cell_type": "code",
   "execution_count": 21,
   "metadata": {},
   "outputs": [],
   "source": [
    "def line_path(path_based_on, dc):\n",
    "    pathFl =  os.path.abspath('01_Data500/out')+'\\\\'+path_based_on+'_'+dc+'.tif'\n",
    "    return raster2array(pathFl)"
   ]
  },
  {
   "cell_type": "code",
   "execution_count": 14,
   "metadata": {},
   "outputs": [
    {
     "name": "stdout",
     "output_type": "stream",
     "text": [
      "converting raster to array...\n"
     ]
    }
   ],
   "source": [
    "linePath = linePath(path_based_on='all', dc = 'dc5')"
   ]
  },
  {
   "cell_type": "code",
   "execution_count": 22,
   "metadata": {},
   "outputs": [],
   "source": [
    "def getCosts(path_based_on, dc):\n",
    "    linePath = line_path(path_based_on=path_based_on, dc = dc)\n",
    "    ecoCostLine = np.multiply(ecoCost, linePath).sum()\n",
    "    envCostLine = np.multiply(envCost, linePath).sum()\n",
    "    infCostLine = np.multiply(infCost, linePath).sum()\n",
    "    pubCostLine = np.multiply(pubCost, linePath).sum()\n",
    "    allCostLine = np.multiply(allCost, linePath).sum()\n",
    "    return [ecoCostLine, envCostLine, infCostLine, pubCostLine, allCostLine]"
   ]
  },
  {
   "cell_type": "code",
   "execution_count": 120,
   "metadata": {},
   "outputs": [],
   "source": [
    "def allCosts(line):\n",
    "    cost = []\n",
    "    for factor in factors:\n",
    "        print(factor)\n",
    "        facCost = getCosts(path_based_on=factor, dc=line)\n",
    "        cost.append(facCost)\n",
    "    allCost = pd.DataFrame(cost)\n",
    "    allCost.columns=['eco','env','inf','pub','all']\n",
    "    allCost['path_on'] = ['p_eco','p_env','p_inf','p_pub','p_all']\n",
    "    return allCost.set_index('path_on')\n"
   ]
  },
  {
   "cell_type": "code",
   "execution_count": 121,
   "metadata": {},
   "outputs": [
    {
     "name": "stdout",
     "output_type": "stream",
     "text": [
      "eco\n",
      "converting raster to array...\n",
      "env\n",
      "converting raster to array...\n",
      "inf\n",
      "converting raster to array...\n",
      "pub\n",
      "converting raster to array...\n",
      "all\n",
      "converting raster to array...\n"
     ]
    }
   ],
   "source": [
    "dc5 = allCosts('dc5')"
   ]
  },
  {
   "cell_type": "code",
   "execution_count": 125,
   "metadata": {},
   "outputs": [
    {
     "name": "stdout",
     "output_type": "stream",
     "text": [
      "eco\n",
      "converting raster to array...\n",
      "env\n",
      "converting raster to array...\n",
      "inf\n",
      "converting raster to array...\n",
      "pub\n",
      "converting raster to array...\n",
      "all\n",
      "converting raster to array...\n"
     ]
    }
   ],
   "source": [
    "dc3 = allCosts('dc3')"
   ]
  },
  {
   "cell_type": "code",
   "execution_count": 127,
   "metadata": {},
   "outputs": [
    {
     "name": "stdout",
     "output_type": "stream",
     "text": [
      "eco\n",
      "converting raster to array...\n",
      "env\n",
      "converting raster to array...\n",
      "inf\n",
      "converting raster to array...\n",
      "pub\n",
      "converting raster to array...\n",
      "all\n",
      "converting raster to array...\n"
     ]
    }
   ],
   "source": [
    "dc4 = allCosts('dc4')"
   ]
  },
  {
   "cell_type": "code",
   "execution_count": 157,
   "metadata": {},
   "outputs": [],
   "source": [
    "colors = ['blue','green','firebrick', 'm','gray']"
   ]
  },
  {
   "cell_type": "code",
   "execution_count": 133,
   "metadata": {},
   "outputs": [],
   "source": [
    "from matplotlib.colors import ListedColormap"
   ]
  },
  {
   "cell_type": "code",
   "execution_count": 166,
   "metadata": {},
   "outputs": [],
   "source": [
    "def bar_diff(data):\n",
    "    cmap = ListedColormap(colors)\n",
    "    data.plot(kind='bar',cmap=cmap)\n",
    "    plt.show()\n",
    "    data.sub(data.xs('p_all'),axis=1).plot(kind='bar',cmap=cmap)\n",
    "    plt.show()\n",
    "    data.sub(data.xs('p_all'), axis=1).div(data.xs('p_all'),axis=1).plot(kind='bar', cmap=cmap)\n",
    "    plt.show()"
   ]
  },
  {
   "cell_type": "code",
   "execution_count": 167,
   "metadata": {},
   "outputs": [
    {
     "data": {
      "image/png": "[encoded data removed]",
      "text/plain": [
       "<Figure size 432x288 with 1 Axes>"
      ]
     },
     "metadata": {
      "needs_background": "light"
     },
     "output_type": "display_data"
    },
    {
     "data": {
      "image/png": "[encoded data removed]",
      "text/plain": [
       "<Figure size 432x288 with 1 Axes>"
      ]
     },
     "metadata": {
      "needs_background": "light"
     },
     "output_type": "display_data"
    },
    {
     "data": {
      "image/png": "[encoded data removed]",
      "text/plain": [
       "<Figure size 432x288 with 1 Axes>"
      ]
     },
     "metadata": {
      "needs_background": "light"
     },
     "output_type": "display_data"
    }
   ],
   "source": [
    "bar_diff(dc3)"
   ]
  },
  {
   "cell_type": "code",
   "execution_count": 168,
   "metadata": {},
   "outputs": [
    {
     "data": {
      "image/png": "[encoded data removed]",
      "text/plain": [
       "<Figure size 432x288 with 1 Axes>"
      ]
     },
     "metadata": {
      "needs_background": "light"
     },
     "output_type": "display_data"
    },
    {
     "data": {
      "image/png": "[encoded data removed]",
      "text/plain": [
       "<Figure size 432x288 with 1 Axes>"
      ]
     },
     "metadata": {
      "needs_background": "light"
     },
     "output_type": "display_data"
    },
    {
     "data": {
      "image/png": "[encoded data removed]",
      "text/plain": [
       "<Figure size 432x288 with 1 Axes>"
      ]
     },
     "metadata": {
      "needs_background": "light"
     },
     "output_type": "display_data"
    }
   ],
   "source": [
    "bar_diff(dc4)"
   ]
  },
  {
   "cell_type": "code",
   "execution_count": 169,
   "metadata": {},
   "outputs": [
    {
     "data": {
      "image/png": "[encoded data removed]",
      "text/plain": [
       "<Figure size 432x288 with 1 Axes>"
      ]
     },
     "metadata": {
      "needs_background": "light"
     },
     "output_type": "display_data"
    },
    {
     "data": {
      "image/png": "[encoded data removed]",
      "text/plain": [
       "<Figure size 432x288 with 1 Axes>"
      ]
     },
     "metadata": {
      "needs_background": "light"
     },
     "output_type": "display_data"
    },
    {
     "data": {
      "image/png": "[encoded data removed]",
      "text/plain": [
       "<Figure size 432x288 with 1 Axes>"
      ]
     },
     "metadata": {
      "needs_background": "light"
     },
     "output_type": "display_data"
    }
   ],
   "source": [
    "bar_diff(dc5)"
   ]
  },
  {
   "cell_type": "code",
   "execution_count": 171,
   "metadata": {},
   "outputs": [
    {
     "name": "stdout",
     "output_type": "stream",
     "text": [
      "converting raster to array...\n"
     ]
    }
   ],
   "source": [
    "infCost = raster2array(os.path.abspath('01_Data500/fac_inf.tif'))"
   ]
  },
  {
   "cell_type": "code",
   "execution_count": 174,
   "metadata": {},
   "outputs": [
    {
     "data": {
      "text/plain": [
       "0.99"
      ]
     },
     "execution_count": 174,
     "metadata": {},
     "output_type": "execute_result"
    }
   ],
   "source": [
    "infCost.max()"
   ]
  },
  {
   "cell_type": "code",
   "execution_count": 177,
   "metadata": {},
   "outputs": [
    {
     "data": {
      "text/html": [
       "<div>\n",
       "<style scoped>\n",
       "    .dataframe tbody tr th:only-of-type {\n",
       "        vertical-align: middle;\n",
       "    }\n",
       "\n",
       "    .dataframe tbody tr th {\n",
       "        vertical-align: top;\n",
       "    }\n",
       "\n",
       "    .dataframe thead th {\n",
       "        text-align: right;\n",
       "    }\n",
       "</style>\n",
       "<table border=\"1\" class=\"dataframe\">\n",
       "  <thead>\n",
       "    <tr style=\"text-align: right;\">\n",
       "      <th></th>\n",
       "      <th>0</th>\n",
       "      <th>1</th>\n",
       "      <th>2</th>\n",
       "      <th>3</th>\n",
       "      <th>4</th>\n",
       "      <th>5</th>\n",
       "      <th>6</th>\n",
       "      <th>7</th>\n",
       "      <th>8</th>\n",
       "      <th>9</th>\n",
       "      <th>...</th>\n",
       "      <th>8827</th>\n",
       "      <th>8828</th>\n",
       "      <th>8829</th>\n",
       "      <th>8830</th>\n",
       "      <th>8831</th>\n",
       "      <th>8832</th>\n",
       "      <th>8833</th>\n",
       "      <th>8834</th>\n",
       "      <th>8835</th>\n",
       "      <th>8836</th>\n",
       "    </tr>\n",
       "  </thead>\n",
       "  <tbody>\n",
       "    <tr>\n",
       "      <th>count</th>\n",
       "      <td>8685.00</td>\n",
       "      <td>8685.00</td>\n",
       "      <td>8685.00</td>\n",
       "      <td>8685.00</td>\n",
       "      <td>8685.00</td>\n",
       "      <td>8685.00</td>\n",
       "      <td>8685.00</td>\n",
       "      <td>8685.00</td>\n",
       "      <td>8685.00</td>\n",
       "      <td>8685.00</td>\n",
       "      <td>...</td>\n",
       "      <td>8685.000000</td>\n",
       "      <td>8685.000000</td>\n",
       "      <td>8685.000000</td>\n",
       "      <td>8685.000000</td>\n",
       "      <td>8685.000000</td>\n",
       "      <td>8685.000000</td>\n",
       "      <td>8685.000000</td>\n",
       "      <td>8685.000000</td>\n",
       "      <td>8685.000000</td>\n",
       "      <td>8685.000000</td>\n",
       "    </tr>\n",
       "    <tr>\n",
       "      <th>mean</th>\n",
       "      <td>0.99</td>\n",
       "      <td>0.99</td>\n",
       "      <td>0.99</td>\n",
       "      <td>0.99</td>\n",
       "      <td>0.99</td>\n",
       "      <td>0.99</td>\n",
       "      <td>0.99</td>\n",
       "      <td>0.99</td>\n",
       "      <td>0.99</td>\n",
       "      <td>0.99</td>\n",
       "      <td>...</td>\n",
       "      <td>0.986618</td>\n",
       "      <td>0.987340</td>\n",
       "      <td>0.986998</td>\n",
       "      <td>0.986466</td>\n",
       "      <td>0.985744</td>\n",
       "      <td>0.986428</td>\n",
       "      <td>0.987112</td>\n",
       "      <td>0.986808</td>\n",
       "      <td>0.986884</td>\n",
       "      <td>0.987188</td>\n",
       "    </tr>\n",
       "    <tr>\n",
       "      <th>std</th>\n",
       "      <td>0.00</td>\n",
       "      <td>0.00</td>\n",
       "      <td>0.00</td>\n",
       "      <td>0.00</td>\n",
       "      <td>0.00</td>\n",
       "      <td>0.00</td>\n",
       "      <td>0.00</td>\n",
       "      <td>0.00</td>\n",
       "      <td>0.00</td>\n",
       "      <td>0.00</td>\n",
       "      <td>...</td>\n",
       "      <td>0.033236</td>\n",
       "      <td>0.029508</td>\n",
       "      <td>0.031332</td>\n",
       "      <td>0.033967</td>\n",
       "      <td>0.037234</td>\n",
       "      <td>0.034147</td>\n",
       "      <td>0.030736</td>\n",
       "      <td>0.032299</td>\n",
       "      <td>0.031915</td>\n",
       "      <td>0.030333</td>\n",
       "    </tr>\n",
       "    <tr>\n",
       "      <th>min</th>\n",
       "      <td>0.99</td>\n",
       "      <td>0.99</td>\n",
       "      <td>0.99</td>\n",
       "      <td>0.99</td>\n",
       "      <td>0.99</td>\n",
       "      <td>0.99</td>\n",
       "      <td>0.99</td>\n",
       "      <td>0.99</td>\n",
       "      <td>0.99</td>\n",
       "      <td>0.99</td>\n",
       "      <td>...</td>\n",
       "      <td>0.660000</td>\n",
       "      <td>0.660000</td>\n",
       "      <td>0.660000</td>\n",
       "      <td>0.660000</td>\n",
       "      <td>0.660000</td>\n",
       "      <td>0.660000</td>\n",
       "      <td>0.660000</td>\n",
       "      <td>0.660000</td>\n",
       "      <td>0.660000</td>\n",
       "      <td>0.660000</td>\n",
       "    </tr>\n",
       "    <tr>\n",
       "      <th>25%</th>\n",
       "      <td>0.99</td>\n",
       "      <td>0.99</td>\n",
       "      <td>0.99</td>\n",
       "      <td>0.99</td>\n",
       "      <td>0.99</td>\n",
       "      <td>0.99</td>\n",
       "      <td>0.99</td>\n",
       "      <td>0.99</td>\n",
       "      <td>0.99</td>\n",
       "      <td>0.99</td>\n",
       "      <td>...</td>\n",
       "      <td>0.990000</td>\n",
       "      <td>0.990000</td>\n",
       "      <td>0.990000</td>\n",
       "      <td>0.990000</td>\n",
       "      <td>0.990000</td>\n",
       "      <td>0.990000</td>\n",
       "      <td>0.990000</td>\n",
       "      <td>0.990000</td>\n",
       "      <td>0.990000</td>\n",
       "      <td>0.990000</td>\n",
       "    </tr>\n",
       "    <tr>\n",
       "      <th>50%</th>\n",
       "      <td>0.99</td>\n",
       "      <td>0.99</td>\n",
       "      <td>0.99</td>\n",
       "      <td>0.99</td>\n",
       "      <td>0.99</td>\n",
       "      <td>0.99</td>\n",
       "      <td>0.99</td>\n",
       "      <td>0.99</td>\n",
       "      <td>0.99</td>\n",
       "      <td>0.99</td>\n",
       "      <td>...</td>\n",
       "      <td>0.990000</td>\n",
       "      <td>0.990000</td>\n",
       "      <td>0.990000</td>\n",
       "      <td>0.990000</td>\n",
       "      <td>0.990000</td>\n",
       "      <td>0.990000</td>\n",
       "      <td>0.990000</td>\n",
       "      <td>0.990000</td>\n",
       "      <td>0.990000</td>\n",
       "      <td>0.990000</td>\n",
       "    </tr>\n",
       "    <tr>\n",
       "      <th>75%</th>\n",
       "      <td>0.99</td>\n",
       "      <td>0.99</td>\n",
       "      <td>0.99</td>\n",
       "      <td>0.99</td>\n",
       "      <td>0.99</td>\n",
       "      <td>0.99</td>\n",
       "      <td>0.99</td>\n",
       "      <td>0.99</td>\n",
       "      <td>0.99</td>\n",
       "      <td>0.99</td>\n",
       "      <td>...</td>\n",
       "      <td>0.990000</td>\n",
       "      <td>0.990000</td>\n",
       "      <td>0.990000</td>\n",
       "      <td>0.990000</td>\n",
       "      <td>0.990000</td>\n",
       "      <td>0.990000</td>\n",
       "      <td>0.990000</td>\n",
       "      <td>0.990000</td>\n",
       "      <td>0.990000</td>\n",
       "      <td>0.990000</td>\n",
       "    </tr>\n",
       "    <tr>\n",
       "      <th>max</th>\n",
       "      <td>0.99</td>\n",
       "      <td>0.99</td>\n",
       "      <td>0.99</td>\n",
       "      <td>0.99</td>\n",
       "      <td>0.99</td>\n",
       "      <td>0.99</td>\n",
       "      <td>0.99</td>\n",
       "      <td>0.99</td>\n",
       "      <td>0.99</td>\n",
       "      <td>0.99</td>\n",
       "      <td>...</td>\n",
       "      <td>0.990000</td>\n",
       "      <td>0.990000</td>\n",
       "      <td>0.990000</td>\n",
       "      <td>0.990000</td>\n",
       "      <td>0.990000</td>\n",
       "      <td>0.990000</td>\n",
       "      <td>0.990000</td>\n",
       "      <td>0.990000</td>\n",
       "      <td>0.990000</td>\n",
       "      <td>0.990000</td>\n",
       "    </tr>\n",
       "  </tbody>\n",
       "</table>\n",
       "<p>8 rows × 8837 columns</p>\n",
       "</div>"
      ],
      "text/plain": [
       "          0        1        2        3        4        5        6        7     \\\n",
       "count  8685.00  8685.00  8685.00  8685.00  8685.00  8685.00  8685.00  8685.00   \n",
       "mean      0.99     0.99     0.99     0.99     0.99     0.99     0.99     0.99   \n",
       "std       0.00     0.00     0.00     0.00     0.00     0.00     0.00     0.00   \n",
       "min       0.99     0.99     0.99     0.99     0.99     0.99     0.99     0.99   \n",
       "25%       0.99     0.99     0.99     0.99     0.99     0.99     0.99     0.99   \n",
       "50%       0.99     0.99     0.99     0.99     0.99     0.99     0.99     0.99   \n",
       "75%       0.99     0.99     0.99     0.99     0.99     0.99     0.99     0.99   \n",
       "max       0.99     0.99     0.99     0.99     0.99     0.99     0.99     0.99   \n",
       "\n",
       "          8        9        ...              8827         8828         8829  \\\n",
       "count  8685.00  8685.00     ...       8685.000000  8685.000000  8685.000000   \n",
       "mean      0.99     0.99     ...          0.986618     0.987340     0.986998   \n",
       "std       0.00     0.00     ...          0.033236     0.029508     0.031332   \n",
       "min       0.99     0.99     ...          0.660000     0.660000     0.660000   \n",
       "25%       0.99     0.99     ...          0.990000     0.990000     0.990000   \n",
       "50%       0.99     0.99     ...          0.990000     0.990000     0.990000   \n",
       "75%       0.99     0.99     ...          0.990000     0.990000     0.990000   \n",
       "max       0.99     0.99     ...          0.990000     0.990000     0.990000   \n",
       "\n",
       "              8830         8831         8832         8833         8834  \\\n",
       "count  8685.000000  8685.000000  8685.000000  8685.000000  8685.000000   \n",
       "mean      0.986466     0.985744     0.986428     0.987112     0.986808   \n",
       "std       0.033967     0.037234     0.034147     0.030736     0.032299   \n",
       "min       0.660000     0.660000     0.660000     0.660000     0.660000   \n",
       "25%       0.990000     0.990000     0.990000     0.990000     0.990000   \n",
       "50%       0.990000     0.990000     0.990000     0.990000     0.990000   \n",
       "75%       0.990000     0.990000     0.990000     0.990000     0.990000   \n",
       "max       0.990000     0.990000     0.990000     0.990000     0.990000   \n",
       "\n",
       "              8835         8836  \n",
       "count  8685.000000  8685.000000  \n",
       "mean      0.986884     0.987188  \n",
       "std       0.031915     0.030333  \n",
       "min       0.660000     0.660000  \n",
       "25%       0.990000     0.990000  \n",
       "50%       0.990000     0.990000  \n",
       "75%       0.990000     0.990000  \n",
       "max       0.990000     0.990000  \n",
       "\n",
       "[8 rows x 8837 columns]"
      ]
     },
     "execution_count": 177,
     "metadata": {},
     "output_type": "execute_result"
    }
   ],
   "source": [
    "pd.DataFrame(infCost).describe()"
   ]
  },
  {
   "cell_type": "code",
   "execution_count": 176,
   "metadata": {},
   "outputs": [
    {
     "data": {
      "text/plain": [
       "array([0.  , 0.33, 0.66, 0.99], dtype=float32)"
      ]
     },
     "execution_count": 176,
     "metadata": {},
     "output_type": "execute_result"
    }
   ],
   "source": [
    "np.unique(infCost)"
   ]
  },
  {
   "cell_type": "code",
   "execution_count": 175,
   "metadata": {},
   "outputs": [
    {
     "data": {
      "text/plain": [
       "0.0"
      ]
     },
     "execution_count": 175,
     "metadata": {},
     "output_type": "execute_result"
    }
   ],
   "source": [
    "infCost.min()"
   ]
  },
  {
   "cell_type": "code",
   "execution_count": 173,
   "metadata": {},
   "outputs": [
    {
     "data": {
      "image/png": "[encoded data removed]",
      "text/plain": [
       "<Figure size 432x288 with 2 Axes>"
      ]
     },
     "metadata": {
      "needs_background": "light"
     },
     "output_type": "display_data"
    }
   ],
   "source": [
    "plt.imshow(infCost)\n",
    "plt.colorbar()\n",
    "plt.show()"
   ]
  }
 ],
 "metadata": {
  "kernelspec": {
   "display_name": "Python 3",
   "language": "python",
   "name": "python3"
  },
  "language_info": {
   "codemirror_mode": {
    "name": "ipython",
    "version": 3
   },
   "file_extension": ".py",
   "mimetype": "text/x-python",
   "name": "python",
   "nbconvert_exporter": "python",
   "pygments_lexer": "ipython3",
   "version": "3.6.6"
  }
 },
 "nbformat": 4,
 "nbformat_minor": 2
}
